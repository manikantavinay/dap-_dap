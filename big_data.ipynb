{
  "nbformat": 4,
  "nbformat_minor": 0,
  "metadata": {
    "colab": {
      "provenance": []
    },
    "kernelspec": {
      "name": "python3",
      "display_name": "Python 3"
    },
    "language_info": {
      "name": "python"
    }
  },
  "cells": [
    {
      "cell_type": "code",
      "execution_count": null,
      "metadata": {
        "colab": {
          "base_uri": "https://localhost:8080/"
        },
        "id": "lWWVCJNYLbRr",
        "outputId": "b1a26495-7da3-4fe5-d97b-fdd98364f69e"
      },
      "outputs": [
        {
          "output_type": "stream",
          "name": "stdout",
          "text": [
            "volume of data: 1000000\n"
          ]
        }
      ],
      "source": [
        "import numpy as np\n",
        "volume_data=np.random.rand(1000000)\n",
        "print(\"volume of data:\",len(volume_data))"
      ]
    },
    {
      "cell_type": "code",
      "source": [
        "import time\n",
        "for i in range(10):\n",
        "  velocity_data = np.random.rand()\n",
        "  print(\"velocity data point:\",velocity_data)\n",
        "  time.sleep(2)"
      ],
      "metadata": {
        "colab": {
          "base_uri": "https://localhost:8080/"
        },
        "id": "fgPtzfLrMByv",
        "outputId": "8200a0a4-a537-4cb6-840e-a1be8d1cef78"
      },
      "execution_count": null,
      "outputs": [
        {
          "output_type": "stream",
          "name": "stdout",
          "text": [
            "velocity data point: 0.013453597897112979\n",
            "velocity data point: 0.8334309331082007\n",
            "velocity data point: 0.762422931355789\n",
            "velocity data point: 0.45852704187922055\n",
            "velocity data point: 0.3969832188875374\n",
            "velocity data point: 0.9429493198881839\n",
            "velocity data point: 0.24693601616024952\n",
            "velocity data point: 0.3881398456560293\n",
            "velocity data point: 0.41785357986997185\n",
            "velocity data point: 0.6544824733782483\n"
          ]
        }
      ]
    },
    {
      "cell_type": "code",
      "source": [
        "structured_data ={'id':1,'name':'manikanta','age':30}\n",
        "print(structured_data)\n",
        "semi_structure_data={'person':{'name':'vinay','age':25,'city':'name'}}\n",
        "unstructure_data=\" manikanta hey ok ha naha nhan juahshsg\""
      ],
      "metadata": {
        "colab": {
          "base_uri": "https://localhost:8080/"
        },
        "id": "JRcKfhKoNKg6",
        "outputId": "2a1b6efc-04b5-4383-b3b6-993bfaf59134"
      },
      "execution_count": null,
      "outputs": [
        {
          "output_type": "stream",
          "name": "stdout",
          "text": [
            "{'id': 1, 'name': 'manikanta', 'age': 30}\n"
          ]
        }
      ]
    },
    {
      "cell_type": "code",
      "source": [
        "import random\n",
        "veracity_data=[random.choice([1,2,3,None])for _ in range(20)]\n",
        "print(\" veracity data:\",veracity_data)"
      ],
      "metadata": {
        "colab": {
          "base_uri": "https://localhost:8080/"
        },
        "id": "T5xFEPI5L5iA",
        "outputId": "ba629681-4582-463f-ad49-4e38a9a1c1da"
      },
      "execution_count": null,
      "outputs": [
        {
          "output_type": "stream",
          "name": "stdout",
          "text": [
            " veracity data: [2, 2, 3, 3, 3, 1, 1, None, 1, 3, None, 2, 1, 3, 3, 1, None, None, 2, 1]\n"
          ]
        }
      ]
    }
  ]
}