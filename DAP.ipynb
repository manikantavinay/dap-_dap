{
  "nbformat": 4,
  "nbformat_minor": 0,
  "metadata": {
    "colab": {
      "provenance": []
    },
    "kernelspec": {
      "name": "python3",
      "display_name": "Python 3"
    },
    "language_info": {
      "name": "python"
    }
  },
  "cells": [
    {
      "cell_type": "code",
      "execution_count": null,
      "metadata": {
        "id": "0V_VwM4jdfLJ",
        "colab": {
          "base_uri": "https://localhost:8080/"
        },
        "outputId": "680f38c3-7736-49ec-90e6-bc30add6c104"
      },
      "outputs": [
        {
          "output_type": "stream",
          "name": "stdout",
          "text": [
            "[1. 2. 3. 4. 5.]\n",
            "[[0 0 0]\n",
            " [0 0 0]\n",
            " [0 0 0]]\n",
            "[[1 1]\n",
            " [1 1]]\n",
            "[ 0  1  2  3  4  5  6  7  8  9 10 11 12 13 14 15 16 17 18 19]\n",
            "[[1.]\n",
            " [2.]\n",
            " [3.]\n",
            " [4.]\n",
            " [5.]]\n",
            "[3. 4.]\n",
            "[[1.]\n",
            " [2.]\n",
            " [3.]\n",
            " [4.]\n",
            " [5.]]\n",
            "[3. 4.]\n",
            "[1 2 3 4 5 6 7 8]\n",
            "[array([1, 2]), array([3, 4]), array([5, 6]), array([7, 8])]\n",
            "[1 2 3 4 5 6 7 8]\n",
            "[array([1, 2]), array([3, 4]), array([5, 6]), array([7, 8])]\n",
            "[[19 22]\n",
            " [43 50]]\n",
            "EigResult(eigenvalues=array([5.80198014e-02, 6.89419802e+01]), eigenvectors=array([[-0.75781077, -0.40313049],\n",
            "       [ 0.65247439, -0.91514251]]))\n"
          ]
        }
      ],
      "source": [
        "import numpy as np\n",
        "# creating arrays\n",
        "arr =np.array([1, 2, 3, 4, 5],dtype=float)\n",
        "print(arr)\n",
        "zeros_arr = np.zeros((3, 3), dtype=int)\n",
        "print(zeros_arr)\n",
        "ones_arr =np.ones((2, 2), dtype=int)\n",
        "print(ones_arr)\n",
        "\n",
        "arange_arr = np.arange(20)\n",
        "print(arange_arr)\n",
        "reshaped_arr=arr.reshape(5, 1)\n",
        "print(reshaped_arr)\n",
        "sliced_arr = arr[2:4]\n",
        "print(sliced_arr)\n",
        "reshaped_arr=arr.reshape(5, 1)\n",
        "print(reshaped_arr)\n",
        "sliced_arr = arr[2:4]\n",
        "print(sliced_arr)\n",
        "a=np.array([1,2,3,4,5,6,7,8])\n",
        "b=a.T\n",
        "print(b)\n",
        "b=np.split(a,4)\n",
        "print(b)\n",
        "a=np.array([1,2,3,4,5,6,7,8])\n",
        "b=a.T\n",
        "print(b)\n",
        "b=np.split(a,4)\n",
        "print(b)\n",
        "a=np.array([[1,2],[3,4]])\n",
        "b=np.array([[5,6],[7,8]])\n",
        "c=np.dot(a,b)\n",
        "print(c)\n",
        "d=np.linalg.eig(c)\n",
        "print(d)\n"
      ]
    },
    {
      "cell_type": "code",
      "source": [],
      "metadata": {
        "id": "MI78R_51hPdt"
      },
      "execution_count": null,
      "outputs": []
    },
    {
      "cell_type": "code",
      "source": [],
      "metadata": {
        "id": "c1pf-QoR1NS3"
      },
      "execution_count": null,
      "outputs": []
    },
    {
      "cell_type": "code",
      "source": [
        "import numpy as np\n",
        "data = np.loadtxt(\"/content/drive/MyDrive/dataset/dap.txt\",dtype=int)\n",
        "d=np.savetxt(\"/content/drive/MyDrive/dataset/dap.txt\",data)\n",
        "print(d)\n",
        "print(data)"
      ],
      "metadata": {
        "colab": {
          "base_uri": "https://localhost:8080/"
        },
        "id": "AGJoxYC8uA1D",
        "outputId": "d7f9b8e5-1af9-4655-92e8-cc31fa453601"
      },
      "execution_count": null,
      "outputs": [
        {
          "output_type": "stream",
          "name": "stdout",
          "text": [
            "None\n",
            "[122333333    122334      1234]\n"
          ]
        }
      ]
    },
    {
      "cell_type": "code",
      "source": [
        "arange_arr=np.arange(0,100,5)\n",
        "print(arange_arr)\n",
        "c=np.savetxt(\"/content/vija.txt\",arange_arr)"
      ],
      "metadata": {
        "colab": {
          "base_uri": "https://localhost:8080/"
        },
        "id": "YlKKv5WKNA1L",
        "outputId": "d6aca4c1-b3fa-4d2f-9f77-521c7d5dd530"
      },
      "execution_count": null,
      "outputs": [
        {
          "output_type": "stream",
          "name": "stdout",
          "text": [
            "[ 0  5 10 15 20 25 30 35 40 45 50 55 60 65 70 75 80 85 90 95]\n"
          ]
        }
      ]
    },
    {
      "cell_type": "code",
      "source": [
        "a=np.array([[1,2],[3,4]])\n",
        "print(a.shape)"
      ],
      "metadata": {
        "colab": {
          "base_uri": "https://localhost:8080/"
        },
        "id": "3x_S8EUBOnZk",
        "outputId": "e382c90c-9dd6-4668-bffd-a08e3e034efa"
      },
      "execution_count": null,
      "outputs": [
        {
          "output_type": "stream",
          "name": "stdout",
          "text": [
            "(2, 2)\n"
          ]
        }
      ]
    },
    {
      "cell_type": "code",
      "source": [
        "from numpy\n",
        "a=np.array([2,3,4,,5,6,,3,4,8])\n",
        "a.resize(4,5)\n",
        "print(a.shape)\n"
      ],
      "metadata": {
        "colab": {
          "base_uri": "https://localhost:8080/",
          "height": 106
        },
        "id": "bI113aP_fISE",
        "outputId": "05a755ed-b6f2-4264-d109-9d117980c00b"
      },
      "execution_count": null,
      "outputs": [
        {
          "output_type": "error",
          "ename": "SyntaxError",
          "evalue": "invalid syntax (<ipython-input-70-fc98580e581c>, line 1)",
          "traceback": [
            "\u001b[0;36m  File \u001b[0;32m\"<ipython-input-70-fc98580e581c>\"\u001b[0;36m, line \u001b[0;32m1\u001b[0m\n\u001b[0;31m    from numpy\u001b[0m\n\u001b[0m               ^\u001b[0m\n\u001b[0;31mSyntaxError\u001b[0m\u001b[0;31m:\u001b[0m invalid syntax\n"
          ]
        }
      ]
    },
    {
      "cell_type": "code",
      "source": [
        "import numpy as np\n",
        "arange_arr = np.arange(30).reshape(2,3,5)\n",
        "print(arange_arr)\n",
        "print(np.dstack(a))"
      ],
      "metadata": {
        "colab": {
          "base_uri": "https://localhost:8080/"
        },
        "id": "nonFwkWXg9J-",
        "outputId": "9113ebcc-c846-459e-bf69-192cb34e9ea8"
      },
      "execution_count": null,
      "outputs": [
        {
          "output_type": "stream",
          "name": "stdout",
          "text": [
            "[[[ 0  1  2  3  4]\n",
            "  [ 5  6  7  8  9]\n",
            "  [10 11 12 13 14]]\n",
            "\n",
            " [[15 16 17 18 19]\n",
            "  [20 21 22 23 24]\n",
            "  [25 26 27 28 29]]]\n",
            "[[[2 3 5 6 5 7]]]\n"
          ]
        }
      ]
    },
    {
      "cell_type": "markdown",
      "source": [
        "number of rows become number od group\n",
        "col\n",
        "um becomes rows\n",
        "group became colum"
      ],
      "metadata": {
        "id": "3LKtvJNeh4TM"
      }
    },
    {
      "cell_type": "code",
      "source": [
        "a1=np."
      ],
      "metadata": {
        "id": "k9Wh84BpZvmb"
      },
      "execution_count": null,
      "outputs": []
    },
    {
      "cell_type": "code",
      "source": [
        "a=10\n",
        "b=20\n",
        "c=a+b\n",
        "print(c)\n"
      ],
      "metadata": {
        "colab": {
          "base_uri": "https://localhost:8080/"
        },
        "id": "Y5avKiASZCUL",
        "outputId": "af37dafb-12b3-48e4-fc77-977bf43d7271"
      },
      "execution_count": null,
      "outputs": [
        {
          "output_type": "stream",
          "name": "stdout",
          "text": [
            "30\n"
          ]
        }
      ]
    },
    {
      "cell_type": "code",
      "source": [
        "a=10\n",
        "b=20\n",
        "c=a*b\n",
        "print(c)"
      ],
      "metadata": {
        "colab": {
          "base_uri": "https://localhost:8080/"
        },
        "id": "gDSUmtprZMB0",
        "outputId": "0e923cff-338b-4212-beca-224287c61323"
      },
      "execution_count": null,
      "outputs": [
        {
          "output_type": "stream",
          "name": "stdout",
          "text": [
            "200\n"
          ]
        }
      ]
    },
    {
      "cell_type": "code",
      "source": [
        "import numpy as np\n",
        "a1=np.full((2,2),3)\n",
        "print(a1)\n",
        "print(a1.itemsize)"
      ],
      "metadata": {
        "colab": {
          "base_uri": "https://localhost:8080/"
        },
        "id": "RarkCcUQZ1sZ",
        "outputId": "25a17d08-dbf6-4173-b9e3-a41b8dbcaa88"
      },
      "execution_count": null,
      "outputs": [
        {
          "output_type": "stream",
          "name": "stdout",
          "text": [
            "[[3 3]\n",
            " [3 3]]\n",
            "8\n"
          ]
        }
      ]
    },
    {
      "cell_type": "code",
      "source": [
        "import numpy as np\n",
        "x=[1,2,3]\n",
        "a=np.array(x)\n",
        "print(type(a))"
      ],
      "metadata": {
        "colab": {
          "base_uri": "https://localhost:8080/"
        },
        "id": "PRbWvAygaWfe",
        "outputId": "ecd081d5-b012-4d74-dfa6-711336c82a5a"
      },
      "execution_count": null,
      "outputs": [
        {
          "output_type": "stream",
          "name": "stdout",
          "text": [
            "<class 'numpy.ndarray'>\n"
          ]
        }
      ]
    },
    {
      "cell_type": "code",
      "source": [
        "import numpy as np\n",
        "x=np.array([1,4,0],float)\n",
        "y=np.array([2,2,1],float)\n",
        "print(np.inner(x, y))\n",
        "print(np.outer())"
      ],
      "metadata": {
        "id": "RGty_LNsa2o3"
      },
      "execution_count": null,
      "outputs": []
    }
  ]
}